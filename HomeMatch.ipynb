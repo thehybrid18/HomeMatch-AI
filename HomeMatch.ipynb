{
 "cells": [
  {
   "cell_type": "markdown",
   "id": "a108af04",
   "metadata": {},
   "source": [
    "This is a starter notebook for the project, you'll have to import the libraries you'll need, you can find a list of the ones available in this workspace in the requirements.txt file in this workspace. "
   ]
  },
  {
   "cell_type": "code",
   "execution_count": null,
   "id": "6554fd4c",
   "metadata": {},
   "outputs": [],
   "source": [
    "\n",
    "import os\n",
    "import pandas as pd\n",
    "\n",
    "# LangChain LLM and embeddings\n",
    "from langchain.llms import OpenAI\n",
    "from langchain.embeddings import OpenAIEmbeddings\n",
    "\n",
    "# Vector store (Chroma for RAG)\n",
    "from langchain.vectorstores import Chroma\n",
    "\n",
    "# Text splitting (if you break documents into chunks)\n",
    "from langchain.text_splitter import CharacterTextSplitter\n",
    "\n",
    "# Prompt templates (to format prompts for LLM)\n",
    "from langchain.prompts import PromptTemplate\n",
    "\n",
    "# Retrieval-based QA chain\n",
    "from langchain.chains import RetrievalQA\n",
    "import openai\n",
    "\n"
   ]
  },
  {
   "cell_type": "code",
   "execution_count": null,
   "id": "b7254134",
   "metadata": {},
   "outputs": [
    {
     "name": "stdout",
     "output_type": "stream",
     "text": [
      "\n",
      "Neighborhood: Northwood Park\n",
      "Price: $450,000 USD\n",
      "Bedrooms: 3\n",
      "Bathrooms: 2.5\n",
      "House Size: 2,200 sqft\n",
      "\n",
      "Description: This charming colonial style home in Northwood Park boasts a spacious open layout with a modern kitchen, hardwood floors, and a cozy fireplace. The master suite features a walk-in closet and en-suite bathroom with a luxurious soaking tub.\n",
      "\n",
      "Neighborhood Description: Northwood Park is a highly sought after neighborhood known for its quiet tree-lined streets and friendly community. Residents enjoy easy access to nearby parks, shopping centers, and top-rated schools. The neighborhood also offers a community pool and clubhouse for residents to relax and socialize.\n"
     ]
    }
   ],
   "source": [
    "from langchain.llms import OpenAI\n",
    "os.environ[\"OPENAI_API_KEY\"] = \"your-api-key\"\n",
    "os.environ[\"OPENAI_API_BASE\"] = \"https://openai.vocareum.com/v1\"\n",
    "\n",
    "# Generate 10 real estate listings using GPT\n",
    "\n",
    "# Initialize LLM with turbo-instruct model\n",
    "llm = OpenAI(\n",
    "    model_name=\"gpt-3.5-turbo-instruct\",\n",
    "    temperature=0.7,\n",
    "    max_tokens=400\n",
    ")\n",
    "\n",
    "# Prompt template for a single listing\n",
    "listing_prompt = \"\"\"\n",
    "Generate a realistic real estate listing in the following format:\n",
    "\n",
    "Neighborhood: [Name of neighborhood]\n",
    "Price: [Price in USD]\n",
    "Bedrooms: [Number of bedrooms]\n",
    "Bathrooms: [Number of bathrooms]\n",
    "House Size: [Square footage in sqft]\n",
    "\n",
    "Description: [1-2 sentences describing the home and its key features]\n",
    "\n",
    "Neighborhood Description: [Describe the neighborhood and amenities]\n",
    "\"\"\"\n",
    "\n",
    "# Generate 10 listings\n",
    "listings = []\n",
    "for i in range(10):\n",
    "    response = llm(listing_prompt)\n",
    "    listings.append(response)\n",
    "\n",
    "# Preview first listing\n",
    "print(listings[0])\n"
   ]
  },
  {
   "cell_type": "code",
   "execution_count": 12,
   "id": "c723ea34",
   "metadata": {},
   "outputs": [
    {
     "name": "stdout",
     "output_type": "stream",
     "text": [
      "Based on the information provided, the house that fits your criteria is the one in Parkside Heights. It has 3 bedrooms, a spacious backyard with a patio, and is located in a highly sought-after neighborhood known for its family-friendly atmosphere.\n"
     ]
    }
   ],
   "source": [
    "from langchain.chat_models import ChatOpenAI\n",
    "from langchain.chains import RetrievalQA\n",
    "\n",
    "# Create FAISS index\n",
    "from langchain.indexes import VectorstoreIndexCreator\n",
    "from langchain.document_loaders import TextLoader\n",
    "from langchain.schema import Document\n",
    "\n",
    "# Save listings to a file\n",
    "with open(\"listings.txt\", \"w\") as f:\n",
    "    for listing in listings:\n",
    "        f.write(listing + \"\\n\\n\")\n",
    "\n",
    "loader = TextLoader(\"listings.txt\")\n",
    "index = VectorstoreIndexCreator().from_loaders([loader])\n",
    "\n",
    "# Setup ChatOpenAI (chat model)\n",
    "chat_llm = ChatOpenAI(model_name=\"gpt-3.5-turbo\", temperature=0)\n",
    "\n",
    "# Create retriever from FAISS index\n",
    "retriever = index.vectorstore.as_retriever(search_kwargs={\"k\": 5})\n",
    "\n",
    "# Create RetrievalQA chain\n",
    "rag_chain = RetrievalQA.from_chain_type(\n",
    "    llm=chat_llm,\n",
    "    chain_type=\"stuff\",\n",
    "    retriever=retriever\n",
    ")\n",
    "\n",
    "# Query\n",
    "query = \"Find a house with 3 bedrooms and a large backyard in a quiet neighborhood.\"\n",
    "result = rag_chain.run(query)\n",
    "\n",
    "print(result)\n",
    "\n"
   ]
  },
  {
   "cell_type": "code",
   "execution_count": null,
   "id": "393d93ac",
   "metadata": {},
   "outputs": [
    {
     "name": "stdout",
     "output_type": "stream",
     "text": [
      "Buyer Preferences Summary:\n",
      " A comfortable three-bedroom house with a spacious kitchen and a cozy living room. A quiet neighborhood, good local schools, and convenient shopping options. A backyard for gardening, a two-car garage, and a modern, energy-efficient heating system. Easy access to a reliable bus line, proximity to a major highway, and bike-friendly roads. A balance between suburban tranquility and access to urban amenities like restaurants and theaters.\n"
     ]
    }
   ],
   "source": [
    "# Collect Buyer Preferences\n",
    "\n",
    "# Define the questions\n",
    "questions = [   \n",
    "    \"How big do you want your house to be?\", \n",
    "    \"What are 3 most important things for you in choosing this property?\", \n",
    "    \"Which amenities would you like?\", \n",
    "    \"Which transportation options are important to you?\",\n",
    "    \"How urban do you want your neighborhood to be?\"\n",
    "]\n",
    "\n",
    "# Simulate user responses (hardcoded for now)\n",
    "answers = [\n",
    "    \"A comfortable three-bedroom house with a spacious kitchen and a cozy living room.\",\n",
    "    \"A quiet neighborhood, good local schools, and convenient shopping options.\",\n",
    "    \"A backyard for gardening, a two-car garage, and a modern, energy-efficient heating system.\",\n",
    "    \"Easy access to a reliable bus line, proximity to a major highway, and bike-friendly roads.\",\n",
    "    \"A balance between suburban tranquility and access to urban amenities like restaurants and theaters.\"\n",
    "]\n",
    "\n",
    "# Combine answers into a single preference text\n",
    "buyer_preferences = \" \".join(answers)\n",
    "\n",
    "print(\"Buyer Preferences Summary:\\n\", buyer_preferences)\n"
   ]
  },
  {
   "cell_type": "code",
   "execution_count": 14,
   "id": "bbc76db3",
   "metadata": {},
   "outputs": [
    {
     "name": "stdout",
     "output_type": "stream",
     "text": [
      "Top Match for Buyer:\n",
      " Based on the information provided, the neighborhood that seems to best match your criteria is Parkside Heights. It offers a quiet and family-friendly atmosphere, convenient access to major highways and public transportation, nearby community parks, and a variety of local shops and restaurants. The houses in this neighborhood have modern amenities like updated kitchens, spacious layouts, and backyard spaces perfect for gardening and entertaining. However, specific details about a two-car garage and energy-efficient heating systems are not mentioned in the descriptions provided.\n"
     ]
    }
   ],
   "source": [
    "# Query FAISS index using preferences\n",
    "result = rag_chain.run(buyer_preferences)\n",
    "print(\"Top Match for Buyer:\\n\", result)\n"
   ]
  },
  {
   "cell_type": "code",
   "execution_count": null,
   "id": "e46e813f",
   "metadata": {},
   "outputs": [
    {
     "name": "stdout",
     "output_type": "stream",
     "text": [
      "Personalized Listing:\n",
      "\n",
      "\n",
      "Welcome to your dream home in Parkside Heights! This charming three-bedroom house boasts a spacious kitchen, perfect for cooking and entertaining. The cozy living room offers a comfortable space to relax and unwind after a long day. Located in a quiet and family-friendly neighborhood, this home is just minutes away from top-rated local schools and convenient shopping options.\n",
      "\n",
      "Step outside into your own backyard oasis, perfect for gardening and outdoor activities. And with a two-car garage, you'll have plenty of space for storage and parking. The modern and energy-efficient heating system will keep you warm and cozy during the colder months.\n",
      "\n",
      "But that's not all, this home also offers easy access to a reliable bus line, making your commute a breeze. Plus, with proximity to a major highway and bike-friendly roads, you'll have easy access to both suburban tranquility and urban amenities like restaurants and theaters.\n",
      "\n",
      "Don't miss out on the opportunity to make this house your forever home. Schedule a viewing today and experience all that Parkside Heights has to offer!\n"
     ]
    }
   ],
   "source": [
    "# Personalize the listing description\n",
    "\n",
    "# Define personalization prompt \n",
    "personalize_prompt = f\"\"\"\n",
    "You are a real estate agent. Personalize the following property listing\n",
    "to highlight the features most relevant to this buyer's preferences.\n",
    "\n",
    "Buyer Preferences:\n",
    "{buyer_preferences}\n",
    "\n",
    "Property Listing:\n",
    "{result}\n",
    "\n",
    "Make sure to emphasize matching features but do not add new details not in the listing.\n",
    "\"\"\"\n",
    "\n",
    "personalized_listing = llm(personalize_prompt)\n",
    "\n",
    "print(\"Personalized Listing:\\n\")\n",
    "print(personalized_listing)\n",
    "\n"
   ]
  }
 ],
 "metadata": {
  "kernelspec": {
   "display_name": "Python 3 (ipykernel)",
   "language": "python",
   "name": "python3"
  },
  "language_info": {
   "codemirror_mode": {
    "name": "ipython",
    "version": 3
   },
   "file_extension": ".py",
   "mimetype": "text/x-python",
   "name": "python",
   "nbconvert_exporter": "python",
   "pygments_lexer": "ipython3",
   "version": "3.10.11"
  }
 },
 "nbformat": 4,
 "nbformat_minor": 5
}
